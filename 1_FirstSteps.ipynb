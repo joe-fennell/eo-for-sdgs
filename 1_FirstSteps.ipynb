{
 "cells": [
  {
   "cell_type": "markdown",
   "id": "1213bad4-170e-402a-ae50-a30a6bb61309",
   "metadata": {},
   "source": [
    "\n",
    "| ![SDG15.9](https://images.prismic.io/globalgoals%2F4873dc0f-0980-46f0-8186-a4a6b3d9e693_goal_15.9_rgb_ng.svg?auto=compress,format) | **15.9: Integrate Ecosystem and Biodiversity in government planning** | ![SDG15.9](https://images.prismic.io/globalgoals%2F4873dc0f-0980-46f0-8186-a4a6b3d9e693_goal_15.9_rgb_ng.svg?auto=compress,format) | **15.9: Integrate Ecosystem and Biodiversity in government planning** | \n",
    "|:---:|:---:|:---:|:---:|\n",
    "|\n",
    "\n",
    "# Using satellite data to monitor urban green space\n",
    "\n",
    "## 1. Introduction\n",
    "In this activity, we will look at the use of satellite data to monitor urban green spaces through a mixture of information and experimentation with real data. This will take you about 1 hour to work through.\n",
    "\n",
    "## 2. How to use this resource \n",
    "This is a [Jupyter Notebook](https://jupyter.org/). It brings together text, images and code, allowing us to try out techniques alongside the relevant information. This activity is written in the [Python](https://www.python.org/) programming language. You don't need to know Python to use this resource, however if you would like more information on how to use Jupyter Notebooks, [there is a useful demonstration Notebook here](https://nbviewer.jupyter.org/github/jupyter/notebook/blob/master/docs/source/examples/Notebook/Notebook%20Basics.ipynb).\n",
    "\n",
    "If you are reading this information on GitHub or in another *static* format, you won't be able to use the interactive features. If you would like to interact with the experiments below, please [click this link to open the Jupyter Notebook in Google Colabs](https://colab.research.google.com/github/joe-fennell/eo-for-sdgs/blob/main/1_FirstSteps.ipynb). This sometimes requires you to log in to a google account but once you have created an account and logged in, it is free to use.\n",
    "\n",
    "## 3. Challenges and opportunities: supporting government decision making \n",
    "The UK Government has responded to the\n"
   ]
  },
  {
   "cell_type": "code",
   "execution_count": 13,
   "id": "abb36eb2-0b01-42da-907d-7ae0aa363bca",
   "metadata": {},
   "outputs": [
    {
     "data": {
      "image/jpeg": "[encoded data removed]",
      "text/html": [
       "\n",
       "        <iframe\n",
       "            width=\"600\"\n",
       "            height=\"480\"\n",
       "            src=\"https://www.youtube.com/embed/loDGyw_jh1s?mute=True\"\n",
       "            frameborder=\"0\"\n",
       "            allowfullscreen\n",
       "        ></iframe>\n",
       "        "
      ],
      "text/plain": [
       "<IPython.lib.display.YouTubeVideo at 0x7fcb25a63c40>"
      ]
     },
     "execution_count": 13,
     "metadata": {},
     "output_type": "execute_result"
    }
   ],
   "source": [
    "YouTubeVideo('loDGyw_jh1s', width=600, height=480, mute=True)"
   ]
  },
  {
   "cell_type": "markdown",
   "id": "f83b9628-9afa-4834-865b-421a2b7da3f2",
   "metadata": {},
   "source": [
    "## 3. An introduction to measuring plants from space\n",
    "One of the key challenges in environmental science is measuring the properties of the Earth's surface in order to understand the processes that shape it. However, even in accessible areas, carrying out this work on the ground can be expensive and difficult. One solution is to measure properties of the surface remotely\n",
    "With the launch of the first LandSatSatellites such as the European Space Agency's Sentinel-2 and NASA's LandSat satellite provide regular "
   ]
  },
  {
   "cell_type": "code",
   "execution_count": 14,
   "id": "580ae139-2641-4e70-aa70-00e7e2268e7f",
   "metadata": {
    "tags": []
   },
   "outputs": [
    {
     "data": {
      "application/vnd.jupyter.widget-view+json": {
       "model_id": "54c090a294a6449986cfa7bd7555ea9b",
       "version_major": 2,
       "version_minor": 0
      },
      "text/plain": [
       "VBox(children=(IntSlider(value=0, continuous_update=False, description='Delayed'), IntText(value=0, descriptio…"
      ]
     },
     "metadata": {},
     "output_type": "display_data"
    }
   ],
   "source": [
    "import ipywidgets as widgets\n",
    "from IPython.display import YouTubeVideo\n",
    "\n",
    "a = widgets.IntSlider(description=\"Delayed\", continuous_update=False)\n",
    "b = widgets.IntText(description=\"Delayed\", continuous_update=False)\n",
    "c = widgets.IntSlider(description=\"Continuous\", continuous_update=True)\n",
    "d = widgets.IntText(description=\"Continuous\", continuous_update=True)\n",
    "\n",
    "widgets.link((a, 'value'), (b, 'value'))\n",
    "widgets.link((a, 'value'), (c, 'value'))\n",
    "widgets.link((a, 'value'), (d, 'value'))\n",
    "widg = widgets.VBox([a,b,c,d])\n",
    "\n",
    "display(widg)"
   ]
  }
 ],
 "metadata": {
  "kernelspec": {
   "display_name": "Python 3",
   "language": "python",
   "name": "python3"
  },
  "language_info": {
   "codemirror_mode": {
    "name": "ipython",
    "version": 3
   },
   "file_extension": ".py",
   "mimetype": "text/x-python",
   "name": "python",
   "nbconvert_exporter": "python",
   "pygments_lexer": "ipython3",
   "version": "3.8.10"
  },
  "widgets": {
   "application/vnd.jupyter.widget-state+json": {
    "state": {
     "00cc28ca039c4b4ea9867648877a615b": {
      "model_module": "@jupyter-widgets/base",
      "model_module_version": "1.2.0",
      "model_name": "LayoutModel",
      "state": {}
     },
     "04eb886d1fef4d17b7687520a9039866": {
      "model_module": "@jupyter-widgets/base",
      "model_module_version": "1.2.0",
      "model_name": "LayoutModel",
      "state": {}
     },
     "14c91e6d1e3a48aa969c27ece7428ab6": {
      "model_module": "@jupyter-widgets/base",
      "model_module_version": "1.2.0",
      "model_name": "LayoutModel",
      "state": {}
     },
     "160619c53dd44a48ad635f94bc3ee2e3": {
      "model_module": "@jupyter-widgets/controls",
      "model_module_version": "1.5.0",
      "model_name": "SliderStyleModel",
      "state": {
       "description_width": ""
      }
     },
     "193ea1d4a8fa457db4f00a6eebc9d994": {
      "model_module": "@jupyter-widgets/base",
      "model_module_version": "1.2.0",
      "model_name": "LayoutModel",
      "state": {}
     },
     "1957ce79686946d08f55cc67414eaac2": {
      "model_module": "@jupyter-widgets/controls",
      "model_module_version": "1.5.0",
      "model_name": "SliderStyleModel",
      "state": {
       "description_width": ""
      }
     },
     "1bc025bd8e5b44e999078bf6074410be": {
      "model_module": "@jupyter-widgets/controls",
      "model_module_version": "1.5.0",
      "model_name": "DescriptionStyleModel",
      "state": {
       "description_width": ""
      }
     },
     "1d5e2cfdf86540d0b5b6be1b35b9f791": {
      "model_module": "@jupyter-widgets/controls",
      "model_module_version": "1.5.0",
      "model_name": "IntTextModel",
      "state": {
       "continuous_update": true,
       "description": "Continuous",
       "layout": "IPY_MODEL_bdf59fe256e546cf8523d3ac0f0c3c14",
       "step": 1,
       "style": "IPY_MODEL_82005b23db2648e5848d94964a1aa9bd"
      }
     },
     "21633b382bca4d05abc75f25a2bacc8b": {
      "model_module": "@jupyter-widgets/controls",
      "model_module_version": "1.5.0",
      "model_name": "IntTextModel",
      "state": {
       "continuous_update": true,
       "description": "Continuous",
       "layout": "IPY_MODEL_9ef960dd3c5a4d69907a38683c7dd7c6",
       "step": 1,
       "style": "IPY_MODEL_c04884585e784ce9a4679dd0c5a9fdcb"
      }
     },
     "2350d13788174a6094ef06b4448441e2": {
      "model_module": "@jupyter-widgets/controls",
      "model_module_version": "1.5.0",
      "model_name": "IntSliderModel",
      "state": {
       "description": "Continuous",
       "layout": "IPY_MODEL_04eb886d1fef4d17b7687520a9039866",
       "style": "IPY_MODEL_3e9afc852834483eb8e52a6a0a20c8b8",
       "value": 56
      }
     },
     "23e474d93d154b9e868f56e1ea9cfbb8": {
      "model_module": "@jupyter-widgets/controls",
      "model_module_version": "1.5.0",
      "model_name": "DescriptionStyleModel",
      "state": {
       "description_width": ""
      }
     },
     "29f88ca0c9a14294b757c485e802495d": {
      "model_module": "@jupyter-widgets/base",
      "model_module_version": "1.2.0",
      "model_name": "LayoutModel",
      "state": {}
     },
     "2af2480c1fb54235bb0c641a24e90ccf": {
      "model_module": "@jupyter-widgets/controls",
      "model_module_version": "1.5.0",
      "model_name": "SliderStyleModel",
      "state": {
       "description_width": ""
      }
     },
     "2e2ff1baeca845ec86fd251ebd00861c": {
      "model_module": "@jupyter-widgets/controls",
      "model_module_version": "1.5.0",
      "model_name": "IntTextModel",
      "state": {
       "description": "Delayed",
       "layout": "IPY_MODEL_29f88ca0c9a14294b757c485e802495d",
       "step": 1,
       "style": "IPY_MODEL_b62833f0f09440a888565e4af6610a9b"
      }
     },
     "2fc55ab2a66043d2882224824774e020": {
      "model_module": "@jupyter-widgets/controls",
      "model_module_version": "1.5.0",
      "model_name": "VBoxModel",
      "state": {
       "children": [
        "IPY_MODEL_e87f67f12069491688e2689d7321dde1",
        "IPY_MODEL_f817cf76f34648b5b1b15f942cb9cb44",
        "IPY_MODEL_8769dae71f7b480cbfbdfe318e294cf2",
        "IPY_MODEL_cf7b4aecce074ac1bb3d7995dbdade0b"
       ],
       "layout": "IPY_MODEL_cda8020c74464530bb46b932683ca515"
      }
     },
     "30393cc53df1454aa98adc7675be4cf6": {
      "model_module": "@jupyter-widgets/controls",
      "model_module_version": "1.5.0",
      "model_name": "DescriptionStyleModel",
      "state": {
       "description_width": ""
      }
     },
     "335ad79824384602ad320f830eb24c6a": {
      "model_module": "@jupyter-widgets/controls",
      "model_module_version": "1.5.0",
      "model_name": "IntTextModel",
      "state": {
       "description": "Delayed",
       "layout": "IPY_MODEL_7a19a49d555341b38a6f4ad951f42a95",
       "step": 1,
       "style": "IPY_MODEL_1bc025bd8e5b44e999078bf6074410be",
       "value": 56
      }
     },
     "3782b954d52f40ed86a4e2b795049346": {
      "model_module": "@jupyter-widgets/controls",
      "model_module_version": "1.5.0",
      "model_name": "IntTextModel",
      "state": {
       "continuous_update": true,
       "description": "Continuous",
       "layout": "IPY_MODEL_b5a9b37079ac4a5fa693a6a56e029846",
       "step": 1,
       "style": "IPY_MODEL_66133f86311c4610856e9ed6c85d9097",
       "value": 56
      }
     },
     "3920bb2806ce41e2966f481a8e45acee": {
      "model_module": "@jupyter-widgets/controls",
      "model_module_version": "1.5.0",
      "model_name": "VBoxModel",
      "state": {
       "children": [
        "IPY_MODEL_e2a471715d8d4aa2a8c12a81f89dc5c8",
        "IPY_MODEL_2e2ff1baeca845ec86fd251ebd00861c",
        "IPY_MODEL_5644e6b92c624a8791ca96fec700259c",
        "IPY_MODEL_21633b382bca4d05abc75f25a2bacc8b"
       ],
       "layout": "IPY_MODEL_cb1fb41189594c05b24b6446deb3f498"
      }
     },
     "398bf52dd0274c22904a63c6091ae33a": {
      "model_module": "@jupyter-widgets/base",
      "model_module_version": "1.2.0",
      "model_name": "LayoutModel",
      "state": {}
     },
     "3de627fcab0543528ab505d52e020173": {
      "model_module": "@jupyter-widgets/base",
      "model_module_version": "1.2.0",
      "model_name": "LayoutModel",
      "state": {}
     },
     "3e93c5acf3e54b3b96d5530afe015d08": {
      "model_module": "@jupyter-widgets/controls",
      "model_module_version": "1.5.0",
      "model_name": "DescriptionStyleModel",
      "state": {
       "description_width": ""
      }
     },
     "3e9afc852834483eb8e52a6a0a20c8b8": {
      "model_module": "@jupyter-widgets/controls",
      "model_module_version": "1.5.0",
      "model_name": "SliderStyleModel",
      "state": {
       "description_width": ""
      }
     },
     "436564b6f34448ce8b48b5db3b64003c": {
      "model_module": "@jupyter-widgets/base",
      "model_module_version": "1.2.0",
      "model_name": "LayoutModel",
      "state": {}
     },
     "490b2ff7824343c999a86b82f901092d": {
      "model_module": "@jupyter-widgets/controls",
      "model_module_version": "1.5.0",
      "model_name": "DescriptionStyleModel",
      "state": {
       "description_width": ""
      }
     },
     "49da2833a1d9422082339e85dfa4e49a": {
      "model_module": "@jupyter-widgets/controls",
      "model_module_version": "1.5.0",
      "model_name": "DescriptionStyleModel",
      "state": {
       "description_width": ""
      }
     },
     "4b7e283a9d70481fba81bed467714f12": {
      "model_module": "@jupyter-widgets/controls",
      "model_module_version": "1.5.0",
      "model_name": "IntTextModel",
      "state": {
       "description": "Delayed",
       "layout": "IPY_MODEL_9563c3524c5e4b32b606911839437afc",
       "step": 1,
       "style": "IPY_MODEL_49da2833a1d9422082339e85dfa4e49a",
       "value": 61
      }
     },
     "4b9a0a80a12b4e01b41870c1dc27858a": {
      "model_module": "@jupyter-widgets/controls",
      "model_module_version": "1.5.0",
      "model_name": "VBoxModel",
      "state": {
       "children": [
        "IPY_MODEL_c7cd46e053b24670b6e07a5474cc01e8",
        "IPY_MODEL_4b7e283a9d70481fba81bed467714f12",
        "IPY_MODEL_ea9f351d465f499087436a5c4be3ef28",
        "IPY_MODEL_c527f1923b534e29b63ff820807a95e1"
       ],
       "layout": "IPY_MODEL_f051c847345f479fb4deca5e1544b9f3"
      }
     },
     "4baf312d8ab24261abd297cba915a0cf": {
      "model_module": "@jupyter-widgets/base",
      "model_module_version": "1.2.0",
      "model_name": "LayoutModel",
      "state": {}
     },
     "515f27881bc349ecbd692ba900d2ae60": {
      "model_module": "@jupyter-widgets/base",
      "model_module_version": "1.2.0",
      "model_name": "LayoutModel",
      "state": {}
     },
     "54c090a294a6449986cfa7bd7555ea9b": {
      "model_module": "@jupyter-widgets/controls",
      "model_module_version": "1.5.0",
      "model_name": "VBoxModel",
      "state": {
       "children": [
        "IPY_MODEL_62fe04f354a74ef091007a9293f86ba8",
        "IPY_MODEL_9fee4110f0c64734b95a4ad9943a0df9",
        "IPY_MODEL_cc16ad8cbb3444be8e05e471d7a23cd0",
        "IPY_MODEL_1d5e2cfdf86540d0b5b6be1b35b9f791"
       ],
       "layout": "IPY_MODEL_3de627fcab0543528ab505d52e020173"
      }
     },
     "5644e6b92c624a8791ca96fec700259c": {
      "model_module": "@jupyter-widgets/controls",
      "model_module_version": "1.5.0",
      "model_name": "IntSliderModel",
      "state": {
       "description": "Continuous",
       "layout": "IPY_MODEL_398bf52dd0274c22904a63c6091ae33a",
       "style": "IPY_MODEL_7e777d7eb0c54b7fa1ec262199538962"
      }
     },
     "602c63802e1c442abf2367d6ba6899a5": {
      "model_module": "@jupyter-widgets/base",
      "model_module_version": "1.2.0",
      "model_name": "LayoutModel",
      "state": {}
     },
     "62fe04f354a74ef091007a9293f86ba8": {
      "model_module": "@jupyter-widgets/controls",
      "model_module_version": "1.5.0",
      "model_name": "IntSliderModel",
      "state": {
       "continuous_update": false,
       "description": "Delayed",
       "layout": "IPY_MODEL_77419a6c4ccd4accb1a19583f89c27aa",
       "style": "IPY_MODEL_c093816227404e6eb686cb50c30b8128"
      }
     },
     "66133f86311c4610856e9ed6c85d9097": {
      "model_module": "@jupyter-widgets/controls",
      "model_module_version": "1.5.0",
      "model_name": "DescriptionStyleModel",
      "state": {
       "description_width": ""
      }
     },
     "6deb53d183884939a033e5e879d2fe31": {
      "model_module": "@jupyter-widgets/controls",
      "model_module_version": "1.5.0",
      "model_name": "IntSliderModel",
      "state": {
       "continuous_update": false,
       "description": "Delayed",
       "layout": "IPY_MODEL_14c91e6d1e3a48aa969c27ece7428ab6",
       "style": "IPY_MODEL_dadc64e33a9347c1ab76035946267f53"
      }
     },
     "72c4c0b576d141b190916b72a6687bc5": {
      "model_module": "@jupyter-widgets/controls",
      "model_module_version": "1.5.0",
      "model_name": "VBoxModel",
      "state": {
       "children": [
        "IPY_MODEL_6deb53d183884939a033e5e879d2fe31",
        "IPY_MODEL_c431da8a19644d3b9a5c3886140e04eb",
        "IPY_MODEL_ab4a61c8dd5a4378abf17e788bb707fd",
        "IPY_MODEL_7ce0b75b255b4024b6d7030f0c41ade1"
       ],
       "layout": "IPY_MODEL_8a10e059e6614a83b8effc3647eeb1dc"
      }
     },
     "77419a6c4ccd4accb1a19583f89c27aa": {
      "model_module": "@jupyter-widgets/base",
      "model_module_version": "1.2.0",
      "model_name": "LayoutModel",
      "state": {}
     },
     "78a8dacb580d43f0a85bb53fc697fd5c": {
      "model_module": "@jupyter-widgets/base",
      "model_module_version": "1.2.0",
      "model_name": "LayoutModel",
      "state": {}
     },
     "7a19a49d555341b38a6f4ad951f42a95": {
      "model_module": "@jupyter-widgets/base",
      "model_module_version": "1.2.0",
      "model_name": "LayoutModel",
      "state": {}
     },
     "7b1f9d3c49d64875886c73ba373b0388": {
      "model_module": "@jupyter-widgets/controls",
      "model_module_version": "1.5.0",
      "model_name": "DescriptionStyleModel",
      "state": {
       "description_width": ""
      }
     },
     "7ce0b75b255b4024b6d7030f0c41ade1": {
      "model_module": "@jupyter-widgets/controls",
      "model_module_version": "1.5.0",
      "model_name": "IntTextModel",
      "state": {
       "continuous_update": true,
       "description": "Continuous",
       "layout": "IPY_MODEL_193ea1d4a8fa457db4f00a6eebc9d994",
       "step": 1,
       "style": "IPY_MODEL_23e474d93d154b9e868f56e1ea9cfbb8"
      }
     },
     "7e777d7eb0c54b7fa1ec262199538962": {
      "model_module": "@jupyter-widgets/controls",
      "model_module_version": "1.5.0",
      "model_name": "SliderStyleModel",
      "state": {
       "description_width": ""
      }
     },
     "811d201e728e4e19ada29b0ed1ce78a2": {
      "model_module": "@jupyter-widgets/base",
      "model_module_version": "1.2.0",
      "model_name": "LayoutModel",
      "state": {}
     },
     "82005b23db2648e5848d94964a1aa9bd": {
      "model_module": "@jupyter-widgets/controls",
      "model_module_version": "1.5.0",
      "model_name": "DescriptionStyleModel",
      "state": {
       "description_width": ""
      }
     },
     "8769dae71f7b480cbfbdfe318e294cf2": {
      "model_module": "@jupyter-widgets/controls",
      "model_module_version": "1.5.0",
      "model_name": "IntSliderModel",
      "state": {
       "description": "Continuous",
       "layout": "IPY_MODEL_a09039d24e204d04876f36ed04e48d1c",
       "style": "IPY_MODEL_160619c53dd44a48ad635f94bc3ee2e3"
      }
     },
     "8a10e059e6614a83b8effc3647eeb1dc": {
      "model_module": "@jupyter-widgets/base",
      "model_module_version": "1.2.0",
      "model_name": "LayoutModel",
      "state": {}
     },
     "938cb21a99f9488c8afc73efd2d52314": {
      "model_module": "@jupyter-widgets/controls",
      "model_module_version": "1.5.0",
      "model_name": "SliderStyleModel",
      "state": {
       "description_width": ""
      }
     },
     "9563c3524c5e4b32b606911839437afc": {
      "model_module": "@jupyter-widgets/base",
      "model_module_version": "1.2.0",
      "model_name": "LayoutModel",
      "state": {}
     },
     "9ef960dd3c5a4d69907a38683c7dd7c6": {
      "model_module": "@jupyter-widgets/base",
      "model_module_version": "1.2.0",
      "model_name": "LayoutModel",
      "state": {}
     },
     "9fee4110f0c64734b95a4ad9943a0df9": {
      "model_module": "@jupyter-widgets/controls",
      "model_module_version": "1.5.0",
      "model_name": "IntTextModel",
      "state": {
       "description": "Delayed",
       "layout": "IPY_MODEL_00cc28ca039c4b4ea9867648877a615b",
       "step": 1,
       "style": "IPY_MODEL_30393cc53df1454aa98adc7675be4cf6"
      }
     },
     "a075970110a94f2ea8a03cd49027ebf1": {
      "model_module": "@jupyter-widgets/controls",
      "model_module_version": "1.5.0",
      "model_name": "IntSliderModel",
      "state": {
       "continuous_update": false,
       "description": "Delayed",
       "layout": "IPY_MODEL_515f27881bc349ecbd692ba900d2ae60",
       "style": "IPY_MODEL_b7e876d14828403ca78905cc5aac84a8",
       "value": 56
      }
     },
     "a09039d24e204d04876f36ed04e48d1c": {
      "model_module": "@jupyter-widgets/base",
      "model_module_version": "1.2.0",
      "model_name": "LayoutModel",
      "state": {}
     },
     "ab4a61c8dd5a4378abf17e788bb707fd": {
      "model_module": "@jupyter-widgets/controls",
      "model_module_version": "1.5.0",
      "model_name": "IntSliderModel",
      "state": {
       "description": "Continuous",
       "layout": "IPY_MODEL_b0463f691f384d5285b34d3bc4b82327",
       "style": "IPY_MODEL_1957ce79686946d08f55cc67414eaac2"
      }
     },
     "b00502f036404915956dfa320c3e2738": {
      "model_module": "@jupyter-widgets/base",
      "model_module_version": "1.2.0",
      "model_name": "LayoutModel",
      "state": {}
     },
     "b0463f691f384d5285b34d3bc4b82327": {
      "model_module": "@jupyter-widgets/base",
      "model_module_version": "1.2.0",
      "model_name": "LayoutModel",
      "state": {}
     },
     "b35d067afde64957a6daf2336cee4a23": {
      "model_module": "@jupyter-widgets/base",
      "model_module_version": "1.2.0",
      "model_name": "LayoutModel",
      "state": {}
     },
     "b5a9b37079ac4a5fa693a6a56e029846": {
      "model_module": "@jupyter-widgets/base",
      "model_module_version": "1.2.0",
      "model_name": "LayoutModel",
      "state": {}
     },
     "b62833f0f09440a888565e4af6610a9b": {
      "model_module": "@jupyter-widgets/controls",
      "model_module_version": "1.5.0",
      "model_name": "DescriptionStyleModel",
      "state": {
       "description_width": ""
      }
     },
     "b7e876d14828403ca78905cc5aac84a8": {
      "model_module": "@jupyter-widgets/controls",
      "model_module_version": "1.5.0",
      "model_name": "SliderStyleModel",
      "state": {
       "description_width": ""
      }
     },
     "bdc6fc6489d4438f91de30d5f5d02c50": {
      "model_module": "@jupyter-widgets/controls",
      "model_module_version": "1.5.0",
      "model_name": "DescriptionStyleModel",
      "state": {
       "description_width": ""
      }
     },
     "bdf59fe256e546cf8523d3ac0f0c3c14": {
      "model_module": "@jupyter-widgets/base",
      "model_module_version": "1.2.0",
      "model_name": "LayoutModel",
      "state": {}
     },
     "c04884585e784ce9a4679dd0c5a9fdcb": {
      "model_module": "@jupyter-widgets/controls",
      "model_module_version": "1.5.0",
      "model_name": "DescriptionStyleModel",
      "state": {
       "description_width": ""
      }
     },
     "c093816227404e6eb686cb50c30b8128": {
      "model_module": "@jupyter-widgets/controls",
      "model_module_version": "1.5.0",
      "model_name": "SliderStyleModel",
      "state": {
       "description_width": ""
      }
     },
     "c431da8a19644d3b9a5c3886140e04eb": {
      "model_module": "@jupyter-widgets/controls",
      "model_module_version": "1.5.0",
      "model_name": "IntTextModel",
      "state": {
       "description": "Delayed",
       "layout": "IPY_MODEL_811d201e728e4e19ada29b0ed1ce78a2",
       "step": 1,
       "style": "IPY_MODEL_bdc6fc6489d4438f91de30d5f5d02c50"
      }
     },
     "c527f1923b534e29b63ff820807a95e1": {
      "model_module": "@jupyter-widgets/controls",
      "model_module_version": "1.5.0",
      "model_name": "IntTextModel",
      "state": {
       "continuous_update": true,
       "description": "Continuous",
       "layout": "IPY_MODEL_f9a31893aa1e4ee6b68eb35faa4abdf8",
       "step": 1,
       "style": "IPY_MODEL_3e93c5acf3e54b3b96d5530afe015d08",
       "value": 61
      }
     },
     "c7cd46e053b24670b6e07a5474cc01e8": {
      "model_module": "@jupyter-widgets/controls",
      "model_module_version": "1.5.0",
      "model_name": "IntSliderModel",
      "state": {
       "continuous_update": false,
       "description": "Delayed",
       "layout": "IPY_MODEL_e28d3520a6264b5a8693f2c64c12f502",
       "style": "IPY_MODEL_2af2480c1fb54235bb0c641a24e90ccf",
       "value": 61
      }
     },
     "c8abcda3453b441da370f0bc9af618f3": {
      "model_module": "@jupyter-widgets/controls",
      "model_module_version": "1.5.0",
      "model_name": "VBoxModel",
      "state": {
       "children": [
        "IPY_MODEL_a075970110a94f2ea8a03cd49027ebf1",
        "IPY_MODEL_335ad79824384602ad320f830eb24c6a",
        "IPY_MODEL_2350d13788174a6094ef06b4448441e2",
        "IPY_MODEL_3782b954d52f40ed86a4e2b795049346"
       ],
       "layout": "IPY_MODEL_b35d067afde64957a6daf2336cee4a23"
      }
     },
     "c932a1e3ffe741d6935cbffa36af7b41": {
      "model_module": "@jupyter-widgets/controls",
      "model_module_version": "1.5.0",
      "model_name": "SliderStyleModel",
      "state": {
       "description_width": ""
      }
     },
     "cb1fb41189594c05b24b6446deb3f498": {
      "model_module": "@jupyter-widgets/base",
      "model_module_version": "1.2.0",
      "model_name": "LayoutModel",
      "state": {}
     },
     "cc16ad8cbb3444be8e05e471d7a23cd0": {
      "model_module": "@jupyter-widgets/controls",
      "model_module_version": "1.5.0",
      "model_name": "IntSliderModel",
      "state": {
       "description": "Continuous",
       "layout": "IPY_MODEL_78a8dacb580d43f0a85bb53fc697fd5c",
       "style": "IPY_MODEL_e31a3714dc64420c9ffbc2d4a032f5cd"
      }
     },
     "cda8020c74464530bb46b932683ca515": {
      "model_module": "@jupyter-widgets/base",
      "model_module_version": "1.2.0",
      "model_name": "LayoutModel",
      "state": {}
     },
     "cf7b4aecce074ac1bb3d7995dbdade0b": {
      "model_module": "@jupyter-widgets/controls",
      "model_module_version": "1.5.0",
      "model_name": "IntTextModel",
      "state": {
       "continuous_update": true,
       "description": "Continuous",
       "layout": "IPY_MODEL_b00502f036404915956dfa320c3e2738",
       "step": 1,
       "style": "IPY_MODEL_7b1f9d3c49d64875886c73ba373b0388"
      }
     },
     "d55861b66972421b872c0147b2ba8618": {
      "model_module": "@jupyter-widgets/base",
      "model_module_version": "1.2.0",
      "model_name": "LayoutModel",
      "state": {}
     },
     "dadc64e33a9347c1ab76035946267f53": {
      "model_module": "@jupyter-widgets/controls",
      "model_module_version": "1.5.0",
      "model_name": "SliderStyleModel",
      "state": {
       "description_width": ""
      }
     },
     "e28d3520a6264b5a8693f2c64c12f502": {
      "model_module": "@jupyter-widgets/base",
      "model_module_version": "1.2.0",
      "model_name": "LayoutModel",
      "state": {}
     },
     "e2a471715d8d4aa2a8c12a81f89dc5c8": {
      "model_module": "@jupyter-widgets/controls",
      "model_module_version": "1.5.0",
      "model_name": "IntSliderModel",
      "state": {
       "continuous_update": false,
       "description": "Delayed",
       "layout": "IPY_MODEL_436564b6f34448ce8b48b5db3b64003c",
       "style": "IPY_MODEL_938cb21a99f9488c8afc73efd2d52314"
      }
     },
     "e31a3714dc64420c9ffbc2d4a032f5cd": {
      "model_module": "@jupyter-widgets/controls",
      "model_module_version": "1.5.0",
      "model_name": "SliderStyleModel",
      "state": {
       "description_width": ""
      }
     },
     "e87f67f12069491688e2689d7321dde1": {
      "model_module": "@jupyter-widgets/controls",
      "model_module_version": "1.5.0",
      "model_name": "IntSliderModel",
      "state": {
       "continuous_update": false,
       "description": "Delayed",
       "layout": "IPY_MODEL_d55861b66972421b872c0147b2ba8618",
       "style": "IPY_MODEL_f22f74191e1a4ffeb3f5d73f332c2d37"
      }
     },
     "ea9f351d465f499087436a5c4be3ef28": {
      "model_module": "@jupyter-widgets/controls",
      "model_module_version": "1.5.0",
      "model_name": "IntSliderModel",
      "state": {
       "description": "Continuous",
       "layout": "IPY_MODEL_4baf312d8ab24261abd297cba915a0cf",
       "style": "IPY_MODEL_c932a1e3ffe741d6935cbffa36af7b41",
       "value": 61
      }
     },
     "f051c847345f479fb4deca5e1544b9f3": {
      "model_module": "@jupyter-widgets/base",
      "model_module_version": "1.2.0",
      "model_name": "LayoutModel",
      "state": {}
     },
     "f22f74191e1a4ffeb3f5d73f332c2d37": {
      "model_module": "@jupyter-widgets/controls",
      "model_module_version": "1.5.0",
      "model_name": "SliderStyleModel",
      "state": {
       "description_width": ""
      }
     },
     "f817cf76f34648b5b1b15f942cb9cb44": {
      "model_module": "@jupyter-widgets/controls",
      "model_module_version": "1.5.0",
      "model_name": "IntTextModel",
      "state": {
       "description": "Delayed",
       "layout": "IPY_MODEL_602c63802e1c442abf2367d6ba6899a5",
       "step": 1,
       "style": "IPY_MODEL_490b2ff7824343c999a86b82f901092d"
      }
     },
     "f9a31893aa1e4ee6b68eb35faa4abdf8": {
      "model_module": "@jupyter-widgets/base",
      "model_module_version": "1.2.0",
      "model_name": "LayoutModel",
      "state": {}
     }
    },
    "version_major": 2,
    "version_minor": 0
   }
  }
 },
 "nbformat": 4,
 "nbformat_minor": 5
}
