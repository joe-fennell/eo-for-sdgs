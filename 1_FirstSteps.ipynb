{
 "cells": [
  {
   "cell_type": "code",
   "execution_count": 1,
   "id": "a1acea2d-f1e3-4730-9c95-4e03c014d6b0",
   "metadata": {},
   "outputs": [],
   "source": [
    "import ipywidgets as widgets\n",
    "from IPython.display import YouTubeVideo"
   ]
  },
  {
   "cell_type": "markdown",
   "id": "1213bad4-170e-402a-ae50-a30a6bb61309",
   "metadata": {},
   "source": [
    "# Using satellite data to monitor urban green space\n",
    "\n",
    "## 1. Introduction\n",
    "In this activity, we will look at the use of satellite data to address United Nations Sustainable Development Goals 15.1, 15.5 and 15.9 through a mixture of learning material and experimentation with real data. This will take you about 1 hour to work through.\n",
    "\n",
    "## 2. How to use this resource \n",
    "This learning resource is a [Jupyter Notebook](https://jupyter.org/). It brings together text, images and code, allowing us to try out techniques alongside the relevant information. I have used the [Python](https://www.python.org/) programming language to produce this but you don't need to know Python to use this resource.\n",
    "\n",
    "Notebooks are made up of cells. A cell can either contain text (markdown) or code. A notebook can either be used *statically* (you can only view the contents) or *dynamically* (you can run, alter, re-run and interact with the Python code within the notebook). You can do many useful things with Jupyter Notebooks and [there is a useful demonstration Notebook here](https://nbviewer.jupyter.org/github/jupyter/notebook/blob/master/docs/source/examples/Notebook/Notebook%20Basics.ipynb) that explains the different features.\n",
    "\n",
    "If you are reading this information on the GitHub website or in another *static* format, you won't be able to use the interactive features. If you would like to interact with the experiments below, please [click this link](https://colab.research.google.com/github/joe-fennell/eo-for-sdgs/blob/main/1_FirstSteps.ipynb) to open the Jupyter Notebook in Google Colabs. This sometimes requires you to log in to a google account but once you have created an account and logged in, it is free to use. Alternatively, you can view a static version [here](https://github.com/joe-fennell/eo-for-sdgs/blob/main/1_FirstSteps.ipynb)\n",
    "\n",
    "Once you have opened this activity in Google Colabs ([click this link](https://colab.research.google.com/github/joe-fennell/eo-for-sdgs/blob/main/1_FirstSteps.ipynb)) If you would like to interact with this notebook in Google Colabs, it is important to run the entire notebook before continuing. Do this now by clicking `Runtime > Run all` in the menu above\n",
    "\n",
    "| ![im.1](images/jlabs_run_nb.png) |\n",
    "|:---:|\n",
    "\n",
    "\n",
    "\n",
    "\n",
    "## 3. Challenges and opportunities: supporting government decision making \n",
    "The UK Government has responded to the\n",
    "\n",
    "|    |UN SDGs|\n",
    "|:---|:---|\n",
    "| ![SDG15.1](https://images.prismic.io/globalgoals%2F5d08ea5a-c0b5-49a4-993d-40bd2f3d46f9_goal_15.1_rgb_ng.svg?auto=compress,format) | 15.1: Conserve and restore <br /> terrestrial and freshwater ecosystems |\n",
    "| ![SDG15.5](https://images.prismic.io/globalgoals%2F5d08ea5a-c0b5-49a4-993d-40bd2f3d46f9_goal_15.1_rgb_ng.svg?auto=compress,format) | 15.5 Protect Biodiversity <br /> and Natural Habitats  |\n",
    "| ![SDG15.9](https://images.prismic.io/globalgoals%2F4873dc0f-0980-46f0-8186-a4a6b3d9e693_goal_15.9_rgb_ng.svg?auto=compress,format) | 15.9: Integrate Ecosystem <br />and Biodiversity in government planning |\n",
    "\n"
   ]
  },
  {
   "cell_type": "code",
   "execution_count": 2,
   "id": "abb36eb2-0b01-42da-907d-7ae0aa363bca",
   "metadata": {},
   "outputs": [
    {
     "data": {
      "image/jpeg": "[encoded data removed]",
      "text/html": [
       "\n",
       "        <iframe\n",
       "            width=\"600\"\n",
       "            height=\"480\"\n",
       "            src=\"https://www.youtube.com/embed/loDGyw_jh1s?mute=True\"\n",
       "            frameborder=\"0\"\n",
       "            allowfullscreen\n",
       "        ></iframe>\n",
       "        "
      ],
      "text/plain": [
       "<IPython.lib.display.YouTubeVideo at 0x7f95b4c82940>"
      ]
     },
     "execution_count": 2,
     "metadata": {},
     "output_type": "execute_result"
    }
   ],
   "source": [
    "YouTubeVideo('loDGyw_jh1s', width=600, height=480, mute=True)"
   ]
  },
  {
   "cell_type": "markdown",
   "id": "f83b9628-9afa-4834-865b-421a2b7da3f2",
   "metadata": {},
   "source": [
    "## 3. An introduction to measuring plants from space\n",
    "One of the key challenges in environmental science is measuring the properties of the Earth's surface in order to understand the processes that shape it. However, even in accessible areas, carrying out this work on the ground can be expensive and difficult. One solution is to measure properties of the surface remotely\n",
    "With the launch of the first LandSatSatellites such as the European Space Agency's Sentinel-2 and NASA's LandSat satellite provide regular "
   ]
  },
  {
   "cell_type": "code",
   "execution_count": 3,
   "id": "580ae139-2641-4e70-aa70-00e7e2268e7f",
   "metadata": {
    "tags": []
   },
   "outputs": [
    {
     "data": {
      "application/vnd.jupyter.widget-view+json": {
       "model_id": "2b79469ae7ef4ad9bd3d25e9a192f51d",
       "version_major": 2,
       "version_minor": 0
      },
      "text/plain": [
       "VBox(children=(IntSlider(value=0, continuous_update=False, description='Delayed'), IntText(value=0, descriptio…"
      ]
     },
     "metadata": {},
     "output_type": "display_data"
    }
   ],
   "source": [
    "a = widgets.IntSlider(description=\"Delayed\", continuous_update=False)\n",
    "b = widgets.IntText(description=\"Delayed\", continuous_update=False)\n",
    "c = widgets.IntSlider(description=\"Continuous\", continuous_update=True)\n",
    "d = widgets.IntText(description=\"Continuous\", continuous_update=True)\n",
    "\n",
    "widgets.link((a, 'value'), (b, 'value'))\n",
    "widgets.link((a, 'value'), (c, 'value'))\n",
    "widgets.link((a, 'value'), (d, 'value'))\n",
    "widg = widgets.VBox([a,b,c,d])\n",
    "\n",
    "display(widg)"
   ]
  }
 ],
 "metadata": {
  "kernelspec": {
   "display_name": "Python 3",
   "language": "python",
   "name": "python3"
  },
  "language_info": {
   "codemirror_mode": {
    "name": "ipython",
    "version": 3
   },
   "file_extension": ".py",
   "mimetype": "text/x-python",
   "name": "python",
   "nbconvert_exporter": "python",
   "pygments_lexer": "ipython3",
   "version": "3.8.10"
  },
  "widgets": {
   "application/vnd.jupyter.widget-state+json": {
    "state": {
     "147ecc75e7c144d29569a06455788ac1": {
      "model_module": "@jupyter-widgets/base",
      "model_module_version": "1.2.0",
      "model_name": "LayoutModel",
      "state": {}
     },
     "234aae7f03a14640a90b5403547ec1d2": {
      "model_module": "@jupyter-widgets/controls",
      "model_module_version": "1.5.0",
      "model_name": "SliderStyleModel",
      "state": {
       "description_width": ""
      }
     },
     "2b79469ae7ef4ad9bd3d25e9a192f51d": {
      "model_module": "@jupyter-widgets/controls",
      "model_module_version": "1.5.0",
      "model_name": "VBoxModel",
      "state": {
       "children": [
        "IPY_MODEL_b52a048f12314641a561b4c9bf5b6a9f",
        "IPY_MODEL_d221e535913847909a26fdf690c3920b",
        "IPY_MODEL_aed7d64990e848639b095bace1118dd6",
        "IPY_MODEL_377230adeaaf4507a9f5f007de0353d4"
       ],
       "layout": "IPY_MODEL_147ecc75e7c144d29569a06455788ac1"
      }
     },
     "31b0f5beae884a37b181340ca53a7603": {
      "model_module": "@jupyter-widgets/controls",
      "model_module_version": "1.5.0",
      "model_name": "DescriptionStyleModel",
      "state": {
       "description_width": ""
      }
     },
     "377230adeaaf4507a9f5f007de0353d4": {
      "model_module": "@jupyter-widgets/controls",
      "model_module_version": "1.5.0",
      "model_name": "IntTextModel",
      "state": {
       "continuous_update": true,
       "description": "Continuous",
       "layout": "IPY_MODEL_be515b74262b41a2b2a679bca9cf1a5e",
       "step": 1,
       "style": "IPY_MODEL_31b0f5beae884a37b181340ca53a7603"
      }
     },
     "63419c20dfea444ca0668227589a0770": {
      "model_module": "@jupyter-widgets/base",
      "model_module_version": "1.2.0",
      "model_name": "LayoutModel",
      "state": {}
     },
     "7f28d0fd4ff440e1b8f46295f9f9e4d3": {
      "model_module": "@jupyter-widgets/controls",
      "model_module_version": "1.5.0",
      "model_name": "SliderStyleModel",
      "state": {
       "description_width": ""
      }
     },
     "aed7d64990e848639b095bace1118dd6": {
      "model_module": "@jupyter-widgets/controls",
      "model_module_version": "1.5.0",
      "model_name": "IntSliderModel",
      "state": {
       "description": "Continuous",
       "layout": "IPY_MODEL_d6373a9e1c5c46eaaddcf30378da1772",
       "style": "IPY_MODEL_234aae7f03a14640a90b5403547ec1d2"
      }
     },
     "b52a048f12314641a561b4c9bf5b6a9f": {
      "model_module": "@jupyter-widgets/controls",
      "model_module_version": "1.5.0",
      "model_name": "IntSliderModel",
      "state": {
       "continuous_update": false,
       "description": "Delayed",
       "layout": "IPY_MODEL_deb4874fa1ad483c9e1f9daab4075cd9",
       "style": "IPY_MODEL_7f28d0fd4ff440e1b8f46295f9f9e4d3"
      }
     },
     "b52b2c74ad664b658cb31404e304b574": {
      "model_module": "@jupyter-widgets/controls",
      "model_module_version": "1.5.0",
      "model_name": "DescriptionStyleModel",
      "state": {
       "description_width": ""
      }
     },
     "be515b74262b41a2b2a679bca9cf1a5e": {
      "model_module": "@jupyter-widgets/base",
      "model_module_version": "1.2.0",
      "model_name": "LayoutModel",
      "state": {}
     },
     "d221e535913847909a26fdf690c3920b": {
      "model_module": "@jupyter-widgets/controls",
      "model_module_version": "1.5.0",
      "model_name": "IntTextModel",
      "state": {
       "description": "Delayed",
       "layout": "IPY_MODEL_63419c20dfea444ca0668227589a0770",
       "step": 1,
       "style": "IPY_MODEL_b52b2c74ad664b658cb31404e304b574"
      }
     },
     "d6373a9e1c5c46eaaddcf30378da1772": {
      "model_module": "@jupyter-widgets/base",
      "model_module_version": "1.2.0",
      "model_name": "LayoutModel",
      "state": {}
     },
     "deb4874fa1ad483c9e1f9daab4075cd9": {
      "model_module": "@jupyter-widgets/base",
      "model_module_version": "1.2.0",
      "model_name": "LayoutModel",
      "state": {}
     }
    },
    "version_major": 2,
    "version_minor": 0
   }
  }
 },
 "nbformat": 4,
 "nbformat_minor": 5
}
