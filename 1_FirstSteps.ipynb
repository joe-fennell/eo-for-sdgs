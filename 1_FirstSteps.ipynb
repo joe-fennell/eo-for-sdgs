{
 "cells": [
  {
   "cell_type": "markdown",
   "id": "1213bad4-170e-402a-ae50-a30a6bb61309",
   "metadata": {},
   "source": [
    "![SDG15.9](https://images.prismic.io/globalgoals%2F4873dc0f-0980-46f0-8186-a4a6b3d9e693_goal_15.9_rgb_ng.svg?auto=compress,format)\n",
    "\n",
    "# Using satellite data to monitor urban green space\n",
    "\n",
    "## Introduction\n",
    "In this activity, we will look at the use of satellite data to monitor urban green spaces through a mixture of information and experimentation with real data. This will take you about 1 hour to work through.\n",
    "\n",
    "## How to use this resource \n",
    "This is a [Jupyter Notebook](https://jupyter.org/). It brings together text, images and code, allowing us to interact with the materials alongside the information. This activity is written in the [Python](https://www.python.org/) programming language. You don't need to know Python to use this resource, however if you would like more information on how to use Jupyter Notebooks, [there is a useful demonstration Notebook here](https://nbviewer.jupyter.org/github/jupyter/notebook/blob/master/docs/source/examples/Notebook/Notebook%20Basics.ipynb).\n",
    "\n",
    "If you are reading this information on GitHub or in a PDF document, you won't be able to use the interactive features. If you would like to  use interactive features, please [click this link to open the Jupyter Notebook in Google Colabs](https://colab.research.google.com/github/joe-fennell/eo-for-sdgs/blob/main/1_FirstSteps.ipynb). This may require y"
   ]
  },
  {
   "cell_type": "code",
   "execution_count": 6,
   "id": "42f1fa37-29fd-4fa8-831f-3eeb2192cce5",
   "metadata": {
    "jupyter": {
     "source_hidden": true
    },
    "tags": []
   },
   "outputs": [
    {
     "data": {
      "application/vnd.jupyter.widget-view+json": {
       "model_id": "c8abcda3453b441da370f0bc9af618f3",
       "version_major": 2,
       "version_minor": 0
      },
      "text/plain": [
       "VBox(children=(IntSlider(value=0, continuous_update=False, description='Delayed'), IntText(value=0, descriptio…"
      ]
     },
     "metadata": {},
     "output_type": "display_data"
    }
   ],
   "source": [
    "import ipywidgets as widgets\n",
    "\n",
    "{\n",
    "    \"tags\": [\n",
    "        \"hide-input\",\n",
    "    ]\n",
    "}\n",
    "a = widgets.IntSlider(description=\"Delayed\", continuous_update=False)\n",
    "b = widgets.IntText(description=\"Delayed\", continuous_update=False)\n",
    "c = widgets.IntSlider(description=\"Continuous\", continuous_update=True)\n",
    "d = widgets.IntText(description=\"Continuous\", continuous_update=True)\n",
    "\n",
    "widgets.link((a, 'value'), (b, 'value'))\n",
    "widgets.link((a, 'value'), (c, 'value'))\n",
    "widgets.link((a, 'value'), (d, 'value'))\n",
    "widg = widgets.VBox([a,b,c,d])\n",
    "\n",
    "display(widg)"
   ]
  },
  {
   "cell_type": "code",
   "execution_count": null,
   "id": "36dc963d-eb87-4586-9545-1aa1644e2ff2",
   "metadata": {},
   "outputs": [],
   "source": []
  }
 ],
 "metadata": {
  "kernelspec": {
   "display_name": "Python 3",
   "language": "python",
   "name": "python3"
  },
  "language_info": {
   "codemirror_mode": {
    "name": "ipython",
    "version": 3
   },
   "file_extension": ".py",
   "mimetype": "text/x-python",
   "name": "python",
   "nbconvert_exporter": "python",
   "pygments_lexer": "ipython3",
   "version": "3.8.10"
  }
 },
 "nbformat": 4,
 "nbformat_minor": 5
}
